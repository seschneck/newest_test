{
 "cells": [
  {
   "cell_type": "markdown",
   "metadata": {},
   "source": [
    "# Tables\n",
    "\n",
    "John Curtin\n",
    "\n",
    "Need to code out some examples of making tables using kableExtra and built in data. Plan is to export these tables as images to allow there use regardless of the document format used to publish the manuscript."
   ],
   "id": "2cf1e717-9527-4b1a-a5ff-d86ba393c0d7"
  },
  {
   "cell_type": "code",
   "execution_count": null,
   "metadata": {},
   "outputs": [
    {
     "output_type": "stream",
     "name": "stderr",
     "text": [
      "── Attaching core tidyverse packages ──────────────────────── tidyverse 2.0.0 ──\n",
      "✔ dplyr     1.1.4     ✔ readr     2.1.5\n",
      "✔ forcats   1.0.0     ✔ stringr   1.5.1\n",
      "✔ ggplot2   3.5.0     ✔ tibble    3.2.1\n",
      "✔ lubridate 1.9.3     ✔ tidyr     1.3.1\n",
      "✔ purrr     1.0.2     \n",
      "── Conflicts ────────────────────────────────────────── tidyverse_conflicts() ──\n",
      "✖ dplyr::filter() masks stats::filter()\n",
      "✖ dplyr::lag()    masks stats::lag()\n",
      "ℹ Use the conflicted package (<http://conflicted.r-lib.org/>) to force all conflicts to become errors"
     ]
    },
    {
     "output_type": "stream",
     "name": "stderr",
     "text": [
      "ℹ SHA-1 hash of file is \"a58e57da996d1b70bb9a5b58241325d6fd78890f\""
     ]
    }
   ],
   "source": [
    "# set up environment\n",
    "options(conflicts.policy = \"depends.ok\")\n",
    "library(tidyverse)"
   ],
   "id": "c1cb2955-5523-4db8-b2b5-9c234c60d3e5"
  },
  {
   "cell_type": "code",
   "execution_count": null,
   "metadata": {
    "tbl-cap": "Table 1. A table."
   },
   "outputs": [
    {
     "output_type": "display_data",
     "metadata": {},
     "data": {
      "text/html": [
       "<table class=\"table table-striped table\" style=\"width: auto !important; float: right; margin-left: 10px; margin-left: auto; margin-right: auto;\">\n",
       " <thead>\n",
       "<tr>\n",
       "<th style=\"empty-cells: hide;border-bottom:hidden;\" colspan=\"1\"></th>\n",
       "<th style=\"border-bottom:hidden;padding-bottom:0; padding-left:3px;padding-right:3px;text-align: center; \" colspan=\"2\"><div style=\"border-bottom: 1px solid #ddd; padding-bottom: 5px; \">Group 1</div></th>\n",
       "<th style=\"border-bottom:hidden;padding-bottom:0; padding-left:3px;padding-right:3px;text-align: center; \" colspan=\"2\"><div style=\"border-bottom: 1px solid #ddd; padding-bottom: 5px; \">Group 2</div></th>\n",
       "<th style=\"border-bottom:hidden;padding-bottom:0; padding-left:3px;padding-right:3px;text-align: center; \" colspan=\"1\"><div style=\"border-bottom: 1px solid #ddd; padding-bottom: 5px; \">Group 3</div></th>\n",
       "</tr>\n",
       "  <tr>\n",
       "   <th style=\"text-align:left;position: sticky; top:0; background-color: #FFFFFF;\">   </th>\n",
       "   <th style=\"text-align:right;position: sticky; top:0; background-color: #FFFFFF;\"> mpg </th>\n",
       "   <th style=\"text-align:right;position: sticky; top:0; background-color: #FFFFFF;\"> cyl </th>\n",
       "   <th style=\"text-align:right;position: sticky; top:0; background-color: #FFFFFF;\"> disp </th>\n",
       "   <th style=\"text-align:right;position: sticky; top:0; background-color: #FFFFFF;\"> hp </th>\n",
       "   <th style=\"text-align:right;position: sticky; top:0; background-color: #FFFFFF;\"> drat </th>\n",
       "  </tr>\n",
       " </thead>\n",
       "<tbody>\n",
       "  <tr>\n",
       "   <td style=\"text-align:left;\"> Mazda RX4 </td>\n",
       "   <td style=\"text-align:right;\"> 21.0 </td>\n",
       "   <td style=\"text-align:right;\"> 6 </td>\n",
       "   <td style=\"text-align:right;\"> 160.0 </td>\n",
       "   <td style=\"text-align:right;\"> 110 </td>\n",
       "   <td style=\"text-align:right;\"> 3.90 </td>\n",
       "  </tr>\n",
       "  <tr>\n",
       "   <td style=\"text-align:left;\"> Mazda RX4 Wag </td>\n",
       "   <td style=\"text-align:right;\"> 21.0 </td>\n",
       "   <td style=\"text-align:right;\"> 6 </td>\n",
       "   <td style=\"text-align:right;\"> 160.0 </td>\n",
       "   <td style=\"text-align:right;\"> 110 </td>\n",
       "   <td style=\"text-align:right;\"> 3.90 </td>\n",
       "  </tr>\n",
       "  <tr>\n",
       "   <td style=\"text-align:left;\"> Datsun 710 </td>\n",
       "   <td style=\"text-align:right;\"> 22.8 </td>\n",
       "   <td style=\"text-align:right;\"> 4 </td>\n",
       "   <td style=\"text-align:right;\"> 108.0 </td>\n",
       "   <td style=\"text-align:right;\"> 93 </td>\n",
       "   <td style=\"text-align:right;\"> 3.85 </td>\n",
       "  </tr>\n",
       "  <tr>\n",
       "   <td style=\"text-align:left;\"> Hornet 4 Drive </td>\n",
       "   <td style=\"text-align:right;\"> 21.4 </td>\n",
       "   <td style=\"text-align:right;\"> 6 </td>\n",
       "   <td style=\"text-align:right;\"> 258.0 </td>\n",
       "   <td style=\"text-align:right;\"> 110 </td>\n",
       "   <td style=\"text-align:right;\"> 3.08 </td>\n",
       "  </tr>\n",
       "  <tr>\n",
       "   <td style=\"text-align:left;\"> Hornet Sportabout </td>\n",
       "   <td style=\"text-align:right;\"> 18.7 </td>\n",
       "   <td style=\"text-align:right;\"> 8 </td>\n",
       "   <td style=\"text-align:right;\"> 360.0 </td>\n",
       "   <td style=\"text-align:right;\"> 175 </td>\n",
       "   <td style=\"text-align:right;\"> 3.15 </td>\n",
       "  </tr>\n",
       "  <tr>\n",
       "   <td style=\"text-align:left;\"> Valiant </td>\n",
       "   <td style=\"text-align:right;\"> 18.1 </td>\n",
       "   <td style=\"text-align:right;\"> 6 </td>\n",
       "   <td style=\"text-align:right;\"> 225.0 </td>\n",
       "   <td style=\"text-align:right;\"> 105 </td>\n",
       "   <td style=\"text-align:right;\"> 2.76 </td>\n",
       "  </tr>\n",
       "  <tr>\n",
       "   <td style=\"text-align:left;\"> Duster 360 </td>\n",
       "   <td style=\"text-align:right;\"> 14.3 </td>\n",
       "   <td style=\"text-align:right;\"> 8 </td>\n",
       "   <td style=\"text-align:right;\"> 360.0 </td>\n",
       "   <td style=\"text-align:right;\"> 245 </td>\n",
       "   <td style=\"text-align:right;\"> 3.21 </td>\n",
       "  </tr>\n",
       "  <tr>\n",
       "   <td style=\"text-align:left;\"> Merc 240D </td>\n",
       "   <td style=\"text-align:right;\"> 24.4 </td>\n",
       "   <td style=\"text-align:right;\"> 4 </td>\n",
       "   <td style=\"text-align:right;\"> 146.7 </td>\n",
       "   <td style=\"text-align:right;\"> 62 </td>\n",
       "   <td style=\"text-align:right;\"> 3.69 </td>\n",
       "  </tr>\n",
       "  <tr>\n",
       "   <td style=\"text-align:left;\"> Merc 230 </td>\n",
       "   <td style=\"text-align:right;\"> 22.8 </td>\n",
       "   <td style=\"text-align:right;\"> 4 </td>\n",
       "   <td style=\"text-align:right;\"> 140.8 </td>\n",
       "   <td style=\"text-align:right;\"> 95 </td>\n",
       "   <td style=\"text-align:right;\"> 3.92 </td>\n",
       "  </tr>\n",
       "  <tr>\n",
       "   <td style=\"text-align:left;\"> Merc 280 </td>\n",
       "   <td style=\"text-align:right;\"> 19.2 </td>\n",
       "   <td style=\"text-align:right;\"> 6 </td>\n",
       "   <td style=\"text-align:right;\"> 167.6 </td>\n",
       "   <td style=\"text-align:right;\"> 123 </td>\n",
       "   <td style=\"text-align:right;\"> 3.92 </td>\n",
       "  </tr>\n",
       "</tbody>\n",
       "</table>\n"
      ]
     }
    }
   ],
   "source": [
    "#| label: table-1\n",
    "#| tbl-cap: Table 1. A table.\n",
    "\n",
    "kbl(mtcars[1:10, 1:5]) |>\n",
    "  kable_styling(bootstrap_options = \"striped\", full_width = F, position = \"float_right\") |>\n",
    "  kable_styling(fixed_thead = T) |>\n",
    "  add_header_above(c(\" \" = 1, \"Group 1\" = 2, \"Group 2\" = 2, \"Group 3\" = 1))"
   ],
   "id": "6f27dc23-6781-4ca1-a949-4a2f5ac36621"
  },
  {
   "cell_type": "code",
   "execution_count": null,
   "metadata": {
    "tbl-cap": "Table 2"
   },
   "outputs": [
    {
     "output_type": "display_data",
     "metadata": {},
     "data": {
      "text/html": [
       "<table class=\"striped\">\n",
       " <thead>\n",
       "  <tr>\n",
       "   <th style=\"text-align:left;\">   </th>\n",
       "   <th style=\"text-align:right;\"> mpg </th>\n",
       "   <th style=\"text-align:right;\"> cyl </th>\n",
       "  </tr>\n",
       " </thead>\n",
       "<tbody>\n",
       "  <tr>\n",
       "   <td style=\"text-align:left;\"> Mazda RX4 </td>\n",
       "   <td style=\"text-align:right;\"> 21 </td>\n",
       "   <td style=\"text-align:right;\"> 6 </td>\n",
       "  </tr>\n",
       "  <tr>\n",
       "   <td style=\"text-align:left;\"> Mazda RX4 Wag </td>\n",
       "   <td style=\"text-align:right;\"> 21 </td>\n",
       "   <td style=\"text-align:right;\"> 6 </td>\n",
       "  </tr>\n",
       "</tbody>\n",
       "</table>\n"
      ]
     }
    }
   ],
   "source": [
    "#| label: table-2\n",
    "#| tbl-cap: Table 2\n",
    "\n",
    "knitr::kable(mtcars[1:2, 1:2], table.attr = \"class=\\\"striped\\\"\",\n",
    "  format = \"html\")"
   ],
   "id": "4e105c73-f302-4e5f-98eb-3b139c7f6e8e"
  },
  {
   "cell_type": "markdown",
   "metadata": {},
   "source": [
    "You can also save a table as an image which can later be imported by another document. Set the zoom and density to get the DPI you want. For a web output, zoom = 2 and density = 300 outputs an image over 800x1200 which should be good enough for even the largest monitors"
   ],
   "id": "c9b59a5f-eb1a-430e-b300-c5562fdde19a"
  },
  {
   "cell_type": "code",
   "execution_count": null,
   "metadata": {},
   "outputs": [],
   "source": [
    "kableExtra::kbl(mtcars) |> \n",
    "  kableExtra::save_kable(\"images/table2.png\", bs_theme = \"flatly\", zoom= 2, density=300)"
   ],
   "id": "ea60da97-cdc2-4951-ae79-f24d8945befe"
  }
 ],
 "nbformat": 4,
 "nbformat_minor": 5,
 "metadata": {}
}
